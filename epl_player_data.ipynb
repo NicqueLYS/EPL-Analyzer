{
 "cells": [
  {
   "cell_type": "code",
   "execution_count": null,
   "id": "9fe76ad2",
   "metadata": {},
   "outputs": [],
   "source": [
    "import requests\n",
    "from bs4 import BeautifulSoup\n",
    "import pandas as pd\n",
    "import re\n",
    "import time\n",
    "from selenium.webdriver.common.by import By\n",
    "\n",
    "url='https://www.premierleague.com/'\n",
    "\n",
    "# get the webpage\n",
    "webpage = requests.get(url)\n",
    "\n",
    "# load webpage into bs4\n",
    "soup = BeautifulSoup(webpage.content, 'html.parser')"
   ]
  },
  {
   "cell_type": "code",
   "execution_count": null,
   "id": "a540b05b",
   "metadata": {},
   "outputs": [],
   "source": [
    "import selenium\n",
    "from selenium import webdriver\n",
    "from webdriver_manager.chrome import ChromeDriverManager\n",
    "\n",
    "driver = webdriver.Chrome(ChromeDriverManager().install())\n",
    "driver.maximize_window()\n",
    "driver.get(url)"
   ]
  },
  {
   "cell_type": "code",
   "execution_count": null,
   "id": "06a1029b",
   "metadata": {},
   "outputs": [],
   "source": [
    "time.sleep(6) #wait for page to load\n",
    "\n",
    "driver.find_element(By.XPATH,\"/html/body/div[2]/div/div/div[1]/div[5]/button[1]\").click() # accept cookies\n",
    "time.sleep(2)\n",
    "\n",
    "driver.find_element(By.XPATH,\"/html/body/header/div/nav/ul/li[10]/a\").click() \n",
    "time.sleep(6)\n",
    "\n",
    "player_name =[]\n",
    "player_position = []\n",
    "player_nationality = []\n",
    "player_club = []\n",
    "player_season = []\n",
    "player = []\n",
    "\n",
    "soup = BeautifulSoup(driver.page_source, 'html.parser') #to rerun after change page\n",
    "\n",
    "seasonSeq = 2\n",
    "\n",
    "while seasonSeq <= 4: # previous 3 seasons\n",
    "    \n",
    "    driver.find_element(By.XPATH,\"/html/body/main/div[2]/div[1]/div/section/div[1]/div[2]\").click() # open Season\n",
    "    time.sleep(1)\n",
    "    driver.find_element(By.XPATH,\"/html/body/main/div[2]/div[1]/div/section/div[1]/ul/li[\" + str(seasonSeq) + \"]\").click() # click from 2020/21\n",
    "    time.sleep(3)\n",
    "    \n",
    "    clubSeq = 2 # reset counter\n",
    "    \n",
    "    while clubSeq <= 21:\n",
    "        \n",
    "        driver.find_element(By.XPATH,\"/html/body/main/div[2]/div[1]/div/section/div[2]/div[2]\").click() #open Club\n",
    "        time.sleep(1)\n",
    "        driver.find_element(By.XPATH,\"/html/body/main/div[2]/div[1]/div/section/div[2]/ul/li[\" + str(clubSeq) + \"]\").click() # click from first Club, total 20 Club every year\n",
    "        time.sleep(2)\n",
    "        \n",
    "        soup = BeautifulSoup(driver.page_source, 'html.parser') #to rerun after change page\n",
    "\n",
    "        pName_list = soup.find('tbody', attrs={'class':'dataContainer indexSection'}).find_all('a', attrs={'class':'playerName'})\n",
    "        for pName_items in pName_list:\n",
    "            player_name.append(pName_items.text)\n",
    "            current_club = soup.find('div', attrs={'data-dropdown-current':'clubs'})\n",
    "            player_club.append(current_club.text)\n",
    "            current_playerSeason = soup.find('div', attrs={'data-dropdown-current':'compSeasons'})\n",
    "            player_season.append(current_playerSeason.text)\n",
    "\n",
    "        pPosition_list = soup.find('tbody', attrs={'class':'dataContainer indexSection'}).find_all('tr')\n",
    "\n",
    "        for pPosition_items in pPosition_list:\n",
    "            for pPosition_items2 in pPosition_items.find('td',attrs={'class':'hide-s'}):\n",
    "                player_position.append(pPosition_items2.text)\n",
    "\n",
    "        pCountry_list = soup.find('tbody', attrs={'class':'dataContainer indexSection'}).find_all('span', attrs={'class':'playerCountry'})\n",
    "\n",
    "        for pCountry_items in pCountry_list:\n",
    "            player_nationality.append(pCountry_items.text)\n",
    "\n",
    "        clubSeq = clubSeq + 1\n",
    "        \n",
    "        \n",
    "    seasonSeq = seasonSeq + 1\n"
   ]
  },
  {
   "cell_type": "code",
   "execution_count": null,
   "id": "e8a243c6",
   "metadata": {},
   "outputs": [],
   "source": [
    "player = {'Season': player_season,\n",
    "          'Club': player_club,\n",
    "         'Name':player_name,\n",
    "         'Position':player_position,\n",
    "         'Nationatility':player_nationality}\n"
   ]
  },
  {
   "cell_type": "code",
   "execution_count": null,
   "id": "5deb8b7f",
   "metadata": {},
   "outputs": [],
   "source": [
    "pl_player_df = pd.DataFrame(player)\n",
    "pl_player_df"
   ]
  },
  {
   "cell_type": "code",
   "execution_count": null,
   "id": "1d370764",
   "metadata": {},
   "outputs": [],
   "source": [
    "pl_player_df.sort_values(by=['Season','Club','Position'])\n",
    "pl_player_df.to_csv('premierleague_player.csv', index=False)"
   ]
  },
  {
   "cell_type": "code",
   "execution_count": null,
   "id": "ca2c09f9",
   "metadata": {},
   "outputs": [],
   "source": [
    "##driver.close()"
   ]
  }
 ],
 "metadata": {
  "kernelspec": {
   "display_name": "Python 3 (ipykernel)",
   "language": "python",
   "name": "python3"
  },
  "language_info": {
   "codemirror_mode": {
    "name": "ipython",
    "version": 3
   },
   "file_extension": ".py",
   "mimetype": "text/x-python",
   "name": "python",
   "nbconvert_exporter": "python",
   "pygments_lexer": "ipython3",
   "version": "3.8.12"
  }
 },
 "nbformat": 4,
 "nbformat_minor": 5
}
